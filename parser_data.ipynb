{
 "cells": [
  {
   "cell_type": "code",
   "execution_count": 1,
   "metadata": {},
   "outputs": [],
   "source": [
    "import json\n",
    "\n",
    "from pathlib import PurePath\n",
    "from glob import glob\n",
    "from tqdm.auto import tqdm"
   ]
  },
  {
   "cell_type": "code",
   "execution_count": 2,
   "metadata": {},
   "outputs": [
    {
     "data": {
      "application/vnd.jupyter.widget-view+json": {
       "model_id": "264145acc5e9431486e2427c78af28e6",
       "version_major": 2,
       "version_minor": 0
      },
      "text/plain": [
       "HBox(children=(FloatProgress(value=0.0, max=2.0), HTML(value='')))"
      ]
     },
     "metadata": {},
     "output_type": "display_data"
    },
    {
     "name": "stdout",
     "output_type": "stream",
     "text": [
      "\n"
     ]
    }
   ],
   "source": [
    "# спарсим данные по каналам\n",
    "\n",
    "channels = []\n",
    "for fl_name, area in tqdm([('data/support/channels.json', 'support'), ('data/team/channels.json', 'team')]):\n",
    "    with open(fl_name, 'r') as fl:\n",
    "        js_channel = json.load(fl)\n",
    "    for channel in js_channel:\n",
    "        channels.append(\n",
    "            {\n",
    "                'channel_id': channel['id'],\n",
    "                'name': channel['name'].lower(),\n",
    "                'is_archived': channel['is_archived'],\n",
    "                'members': ' '.join(channel['members']).lower(),\n",
    "                'topic': channel['topic']['value'].lower(),\n",
    "                'desc': channel['purpose']['value'].lower(),\n",
    "                'area': area.lower()\n",
    "            }\n",
    "        )"
   ]
  },
  {
   "cell_type": "code",
   "execution_count": 8,
   "metadata": {},
   "outputs": [
    {
     "data": {
      "application/vnd.jupyter.widget-view+json": {
       "model_id": "928d673781854762bfc9bfc45c604e74",
       "version_major": 2,
       "version_minor": 0
      },
      "text/plain": [
       "HBox(children=(FloatProgress(value=0.0, max=2.0), HTML(value='')))"
      ]
     },
     "metadata": {},
     "output_type": "display_data"
    },
    {
     "name": "stdout",
     "output_type": "stream",
     "text": [
      "\n"
     ]
    }
   ],
   "source": [
    "# спрасим пользователей\n",
    "\n",
    "users = []\n",
    "for fl_name, area in tqdm([('data/support/users.json', 'support'), ('data/team/users.json', 'team')]):\n",
    "    with open(fl_name, 'r') as fl:\n",
    "        js_user = json.load(fl)\n",
    "        for user in js_user:\n",
    "            email = user['profile'].get('email', None)\n",
    "            email = email.lower() if email else email\n",
    "            users.append(\n",
    "                {\n",
    "                    'user_id': user['id'],\n",
    "                    'deleted': user['deleted'],\n",
    "                    'real_name': user['profile']['real_name'],\n",
    "                    'display_name': user['profile']['display_name'],\n",
    "                    'email': email,\n",
    "                    'tz_offset': user.get('tz_offset', None),\n",
    "                    'area': area\n",
    "                }\n",
    "            )\n",
    "                \n",
    "                \n",
    "         "
   ]
  },
  {
   "cell_type": "code",
   "execution_count": 10,
   "metadata": {},
   "outputs": [
    {
     "data": {
      "application/vnd.jupyter.widget-view+json": {
       "model_id": "861534853c75468a8a6c85eca73e3ff0",
       "version_major": 2,
       "version_minor": 0
      },
      "text/plain": [
       "HBox(children=(FloatProgress(value=0.0, max=12483.0), HTML(value='')))"
      ]
     },
     "metadata": {},
     "output_type": "display_data"
    },
    {
     "name": "stdout",
     "output_type": "stream",
     "text": [
      "\n"
     ]
    },
    {
     "data": {
      "application/vnd.jupyter.widget-view+json": {
       "model_id": "b909d3ff737d4029a231dfb4e6c40dce",
       "version_major": 2,
       "version_minor": 0
      },
      "text/plain": [
       "HBox(children=(FloatProgress(value=0.0, max=11897.0), HTML(value='')))"
      ]
     },
     "metadata": {},
     "output_type": "display_data"
    },
    {
     "name": "stdout",
     "output_type": "stream",
     "text": [
      "\n"
     ]
    }
   ],
   "source": [
    "# спарсим сообщения\n",
    "messages = []\n",
    "\n",
    "for pattern_file_name, area in [('data/support/*/*.json', 'support'), ('data/team/*/*.json', 'team')]:\n",
    "    for file_name in tqdm(glob(pattern_file_name)):\n",
    "        with open(file_name, 'r') as fl:\n",
    "            for message in filter(lambda x: 'user_profile' in x.keys(), json.load(fl)):\n",
    "                messages.append(\n",
    "                    {\n",
    "                        'text': message['text'].lower(),\n",
    "                        'user_id': message['user'],\n",
    "                        'ts': str(message['ts']),\n",
    "                        'area': area.lower(),\n",
    "                        'channel': PurePath(file_name).parts[-2]\n",
    "                    }\n",
    "                )"
   ]
  },
  {
   "cell_type": "code",
   "execution_count": 11,
   "metadata": {},
   "outputs": [],
   "source": [
    "for file_name, data in [('users.json', users), ('channels.json', channels), ('messages.json', messages)]:\n",
    "    with open(f\"new_data/{file_name}\", 'w') as fl:\n",
    "        json.dump(data, fl)"
   ]
  },
  {
   "cell_type": "code",
   "execution_count": null,
   "metadata": {},
   "outputs": [],
   "source": []
  }
 ],
 "metadata": {
  "kernelspec": {
   "display_name": "Python 3",
   "language": "python",
   "name": "python3"
  },
  "language_info": {
   "codemirror_mode": {
    "name": "ipython",
    "version": 3
   },
   "file_extension": ".py",
   "mimetype": "text/x-python",
   "name": "python",
   "nbconvert_exporter": "python",
   "pygments_lexer": "ipython3",
   "version": "3.6.9"
  }
 },
 "nbformat": 4,
 "nbformat_minor": 4
}
